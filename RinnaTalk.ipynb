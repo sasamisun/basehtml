{
  "nbformat": 4,
  "nbformat_minor": 0,
  "metadata": {
    "colab": {
      "provenance": [],
      "authorship_tag": "ABX9TyPAlnATTv26XqAFwQnjcrpZ",
      "include_colab_link": true
    },
    "kernelspec": {
      "name": "python3",
      "display_name": "Python 3"
    },
    "language_info": {
      "name": "python"
    }
  },
  "cells": [
    {
      "cell_type": "markdown",
      "metadata": {
        "id": "view-in-github",
        "colab_type": "text"
      },
      "source": [
        "<a href=\"https://colab.research.google.com/github/sasamisun/basehtml/blob/master/RinnaTalk.ipynb\" target=\"_parent\"><img src=\"https://colab.research.google.com/assets/colab-badge.svg\" alt=\"Open In Colab\"/></a>"
      ]
    },
    {
      "cell_type": "code",
      "execution_count": null,
      "metadata": {
        "cellView": "form",
        "id": "2c_lFnvvB3fm"
      },
      "outputs": [],
      "source": [
        "#@title\n",
        "# Huggingface Transformers\n",
        "!pip install transformers==4.16.0\n",
        "# Sentencepiece\n",
        "!pip install sentencepiece==0.1.96"
      ]
    },
    {
      "cell_type": "code",
      "source": [
        "#@title\n",
        "import torch\n",
        "from transformers import T5Tokenizer, AutoModelForCausalLM\n",
        "import re\n",
        " \n",
        "# トークナイザーとモデルのロード\n",
        "tokenizer = T5Tokenizer.from_pretrained(\"rinna/japanese-gpt-1b\")\n",
        "model = AutoModelForCausalLM.from_pretrained(\"rinna/japanese-gpt-1b\")\n",
        " \n",
        "# GPU使用\n",
        "if torch.cuda.is_available():\n",
        "    model = model.to(\"cuda\")"
      ],
      "metadata": {
        "cellView": "form",
        "id": "1mDTUTooCj1J"
      },
      "execution_count": null,
      "outputs": []
    },
    {
      "cell_type": "code",
      "source": [
        "#@markdown ## 名前\n",
        "my_name = \"name\" #@param {type:\"string\"}\n",
        "#@markdown ## 独り言回数\n",
        "round_trip = 20 #@param {type:\"slider\", min:0, max:100, step:1}\n",
        " \n",
        "#@markdown ## 独り言のトピック\n",
        "topic = \"\\u5C06\\u6765\\u3001AI\\u306F\\u4EBA\\u9593\\u3088\\u308A\\u3082\\u8CE2\\u304F\\u306A\\u308B\\u306E\\u304B\\u3002\" #@param {type:\"string\"}\n",
        "text = \"りんな:「おはよう\" + my_name +\"」りんな:「\" + topic + \"」りんな:「\"\n",
        " \n",
        "#@markdown ### parameter変更(Option)\n",
        "#@markdown 次のトークン確率をモジュール化するために使用される値\n",
        "temperature = 1 #@param {type:\"slider\", min:0.0, max:1.0, step:0.1}\n",
        "#@markdown 繰り返しペナルティのパラメータ。1.0はペナルティなし\n",
        "repetition_penalty = 0.8 #@param {type:\"slider\", min:0.0, max:1.0, step:0.1}\n",
        "#@markdown 長さに対する指数関数的なペナルティ。1.0はペナルティなし\n",
        "length_penalty = 0.9 #@param {type:\"slider\", min:0.0, max:1.0, step:0.1}"
      ],
      "metadata": {
        "cellView": "form",
        "id": "NycJn0KPIc8z"
      },
      "execution_count": null,
      "outputs": []
    },
    {
      "cell_type": "code",
      "source": [
        "#@title\n",
        "print(\"topic:\", topic)\n",
        " \n",
        "pos = 3 # 括弧の取得位置\n",
        "for round_num in range(round_trip):\n",
        "  token_ids = tokenizer.encode(text, add_special_tokens=False, return_tensors=\"pt\")\n",
        "  max_length = 100\n",
        "  if max_length < len(text):\n",
        "    max_length = len(text) + 30\n",
        " \n",
        "  # りんなちゃんのテキスト生成\n",
        "  with torch.no_grad():\n",
        "    output_ids = model.generate(\n",
        "        token_ids.to(model.device),\n",
        "        max_length=max_length,\n",
        "        min_length=50,\n",
        "        do_sample=True,\n",
        "        top_k=500,\n",
        "        top_p=0.95,\n",
        "        pad_token_id=tokenizer.pad_token_id,\n",
        "        bos_token_id=tokenizer.bos_token_id,\n",
        "        eos_token_id=tokenizer.eos_token_id,\n",
        "        bad_word_ids=[[tokenizer.unk_token_id]],\n",
        "        temperature = temperature,\n",
        "        repetition_penalty = repetition_penalty,\n",
        "        length_penalty = length_penalty\n",
        "        )\n",
        "  output = tokenizer.decode(output_ids.tolist()[0])\n",
        "  # 半角を全角に正規化\n",
        "  output = output.translate(str.maketrans({chr(0xFF01 + i): chr(0x21 + i) for i in range(94)}))\n",
        " \n",
        "  # りんなちゃんの先頭の独り言のみ取得\n",
        "  prefix = \"りんな:「\"\n",
        "  suffix = \"」\"\n",
        "  pre = output.split(prefix)\n",
        "  post = pre[pos].split(suffix)\n",
        "\n",
        "  # 」で閉じずに言を続けた場合に対処\n",
        "  if (my_name + \":\") in post[0]:\n",
        "    post[0] = post[0].split(my_name + \":\")[0]\n",
        "\n",
        "  # 」で閉じずにりんなちゃんが次の独り言を続けた場合に対処\n",
        "  if \"りんな:\" in post[0]:\n",
        "    post[0] = post[0].split(\"りんな:\")[0]\n",
        "  # 」で閉じずに終了した場合\n",
        "  if \"</s>\" in post[0]:\n",
        "    post[0] = post[0].replace(\"</s>\", \"\")\n",
        " \n",
        "  print(\" ->\", post[0])\n",
        "  \n",
        "  #入力\n",
        "  ipttxt = input();\n",
        "\n",
        "  if ipttxt:\n",
        "    print(\"\")\n",
        "  else:\n",
        "    break\n",
        "\n",
        "  # textに付加\n",
        "  text += post[0] + my_name + \":「\" + ipttxt + \"」りんな:「\"\n",
        "\n",
        " \n",
        "  # 次回取得位置更新\n",
        "  pos += 1"
      ],
      "metadata": {
        "cellView": "form",
        "id": "Jvg7qs3BLU1Q"
      },
      "execution_count": null,
      "outputs": []
    }
  ]
}